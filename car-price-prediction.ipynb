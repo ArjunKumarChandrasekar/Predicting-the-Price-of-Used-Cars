{
 "cells": [
  {
   "cell_type": "markdown",
   "metadata": {
    "papermill": {
     "duration": 0.03334,
     "end_time": "2020-12-21T20:34:25.103544",
     "exception": false,
     "start_time": "2020-12-21T20:34:25.070204",
     "status": "completed"
    },
    "tags": []
   },
   "source": [
    "###### Reading and Understanding the Dataset"
   ]
  },
  {
   "cell_type": "code",
   "execution_count": 1,
   "metadata": {
    "_cell_guid": "b1076dfc-b9ad-4769-8c92-a6c4dae69d19",
    "_uuid": "8f2839f25d086af736a60e9eeb907d3b93b6e0e5",
    "execution": {
     "iopub.execute_input": "2020-12-21T20:34:25.177803Z",
     "iopub.status.busy": "2020-12-21T20:34:25.177007Z",
     "iopub.status.idle": "2020-12-21T20:34:26.343881Z",
     "shell.execute_reply": "2020-12-21T20:34:26.342714Z"
    },
    "papermill": {
     "duration": 1.209696,
     "end_time": "2020-12-21T20:34:26.344354",
     "exception": false,
     "start_time": "2020-12-21T20:34:25.134658",
     "status": "completed"
    },
    "tags": []
   },
   "outputs": [],
   "source": [
    "#import libraries\n",
    "import pandas as pd\n",
    "import numpy as np\n",
    "import matplotlib.pyplot as plt\n",
    "import seaborn as sns\n",
    "import os\n",
    "import warnings\n",
    "\n",
    "%matplotlib inline\n",
    "pd.set_option(\"display.max_rows\", None,\"display.max_columns\", None)\n",
    "warnings.simplefilter(action='ignore')\n",
    "plt.style.use('seaborn')"
   ]
  },
  {
   "cell_type": "code",
   "execution_count": 2,
   "metadata": {
    "_cell_guid": "79c7e3d0-c299-4dcb-8224-4455121ee9b0",
    "_uuid": "d629ff2d2480ee46fbb7e2d37f6b5fab8052498a",
    "execution": {
     "iopub.execute_input": "2020-12-21T20:34:26.417195Z",
     "iopub.status.busy": "2020-12-21T20:34:26.416460Z",
     "iopub.status.idle": "2020-12-21T20:34:26.431979Z",
     "shell.execute_reply": "2020-12-21T20:34:26.431280Z"
    },
    "papermill": {
     "duration": 0.05608,
     "end_time": "2020-12-21T20:34:26.432107",
     "exception": false,
     "start_time": "2020-12-21T20:34:26.376027",
     "status": "completed"
    },
    "tags": []
   },
   "outputs": [],
   "source": [
    "#load dataset\n",
    "df_main = pd.read_csv('cardata.csv')"
   ]
  },
  {
   "cell_type": "code",
   "execution_count": 3,
   "metadata": {
    "execution": {
     "iopub.execute_input": "2020-12-21T20:34:26.518914Z",
     "iopub.status.busy": "2020-12-21T20:34:26.518164Z",
     "iopub.status.idle": "2020-12-21T20:34:26.530834Z",
     "shell.execute_reply": "2020-12-21T20:34:26.530216Z"
    },
    "papermill": {
     "duration": 0.064666,
     "end_time": "2020-12-21T20:34:26.530954",
     "exception": false,
     "start_time": "2020-12-21T20:34:26.466288",
     "status": "completed"
    },
    "tags": []
   },
   "outputs": [
    {
     "data": {
      "text/html": [
       "<div>\n",
       "<style scoped>\n",
       "    .dataframe tbody tr th:only-of-type {\n",
       "        vertical-align: middle;\n",
       "    }\n",
       "\n",
       "    .dataframe tbody tr th {\n",
       "        vertical-align: top;\n",
       "    }\n",
       "\n",
       "    .dataframe thead th {\n",
       "        text-align: right;\n",
       "    }\n",
       "</style>\n",
       "<table border=\"1\" class=\"dataframe\">\n",
       "  <thead>\n",
       "    <tr style=\"text-align: right;\">\n",
       "      <th></th>\n",
       "      <th>Car_Name</th>\n",
       "      <th>Year</th>\n",
       "      <th>Selling_Price</th>\n",
       "      <th>Present_Price</th>\n",
       "      <th>Kms_Driven</th>\n",
       "      <th>Fuel_Type</th>\n",
       "      <th>Seller_Type</th>\n",
       "      <th>Transmission</th>\n",
       "      <th>Owner</th>\n",
       "    </tr>\n",
       "  </thead>\n",
       "  <tbody>\n",
       "    <tr>\n",
       "      <th>0</th>\n",
       "      <td>ritz</td>\n",
       "      <td>2014</td>\n",
       "      <td>3.35</td>\n",
       "      <td>5.59</td>\n",
       "      <td>27000</td>\n",
       "      <td>Petrol</td>\n",
       "      <td>Dealer</td>\n",
       "      <td>Manual</td>\n",
       "      <td>0</td>\n",
       "    </tr>\n",
       "    <tr>\n",
       "      <th>1</th>\n",
       "      <td>sx4</td>\n",
       "      <td>2013</td>\n",
       "      <td>4.75</td>\n",
       "      <td>9.54</td>\n",
       "      <td>43000</td>\n",
       "      <td>Diesel</td>\n",
       "      <td>Dealer</td>\n",
       "      <td>Manual</td>\n",
       "      <td>0</td>\n",
       "    </tr>\n",
       "    <tr>\n",
       "      <th>2</th>\n",
       "      <td>ciaz</td>\n",
       "      <td>2017</td>\n",
       "      <td>7.25</td>\n",
       "      <td>9.85</td>\n",
       "      <td>6900</td>\n",
       "      <td>Petrol</td>\n",
       "      <td>Dealer</td>\n",
       "      <td>Manual</td>\n",
       "      <td>0</td>\n",
       "    </tr>\n",
       "    <tr>\n",
       "      <th>3</th>\n",
       "      <td>wagon r</td>\n",
       "      <td>2011</td>\n",
       "      <td>2.85</td>\n",
       "      <td>4.15</td>\n",
       "      <td>5200</td>\n",
       "      <td>Petrol</td>\n",
       "      <td>Dealer</td>\n",
       "      <td>Manual</td>\n",
       "      <td>0</td>\n",
       "    </tr>\n",
       "    <tr>\n",
       "      <th>4</th>\n",
       "      <td>swift</td>\n",
       "      <td>2014</td>\n",
       "      <td>4.60</td>\n",
       "      <td>6.87</td>\n",
       "      <td>42450</td>\n",
       "      <td>Diesel</td>\n",
       "      <td>Dealer</td>\n",
       "      <td>Manual</td>\n",
       "      <td>0</td>\n",
       "    </tr>\n",
       "  </tbody>\n",
       "</table>\n",
       "</div>"
      ],
      "text/plain": [
       "  Car_Name  Year  Selling_Price  Present_Price  Kms_Driven Fuel_Type  \\\n",
       "0     ritz  2014           3.35           5.59       27000    Petrol   \n",
       "1      sx4  2013           4.75           9.54       43000    Diesel   \n",
       "2     ciaz  2017           7.25           9.85        6900    Petrol   \n",
       "3  wagon r  2011           2.85           4.15        5200    Petrol   \n",
       "4    swift  2014           4.60           6.87       42450    Diesel   \n",
       "\n",
       "  Seller_Type Transmission  Owner  \n",
       "0      Dealer       Manual      0  \n",
       "1      Dealer       Manual      0  \n",
       "2      Dealer       Manual      0  \n",
       "3      Dealer       Manual      0  \n",
       "4      Dealer       Manual      0  "
      ]
     },
     "execution_count": 3,
     "metadata": {},
     "output_type": "execute_result"
    }
   ],
   "source": [
    "df_main.head()"
   ]
  },
  {
   "cell_type": "code",
   "execution_count": 4,
   "metadata": {
    "execution": {
     "iopub.execute_input": "2020-12-21T20:34:26.602695Z",
     "iopub.status.busy": "2020-12-21T20:34:26.601611Z",
     "iopub.status.idle": "2020-12-21T20:34:26.606188Z",
     "shell.execute_reply": "2020-12-21T20:34:26.606775Z"
    },
    "papermill": {
     "duration": 0.042982,
     "end_time": "2020-12-21T20:34:26.606951",
     "exception": false,
     "start_time": "2020-12-21T20:34:26.563969",
     "status": "completed"
    },
    "tags": []
   },
   "outputs": [
    {
     "data": {
      "text/plain": [
       "(301, 9)"
      ]
     },
     "execution_count": 4,
     "metadata": {},
     "output_type": "execute_result"
    }
   ],
   "source": [
    "df_main.shape"
   ]
  },
  {
   "cell_type": "code",
   "execution_count": 5,
   "metadata": {
    "execution": {
     "iopub.execute_input": "2020-12-21T20:34:26.688027Z",
     "iopub.status.busy": "2020-12-21T20:34:26.687293Z",
     "iopub.status.idle": "2020-12-21T20:34:26.691991Z",
     "shell.execute_reply": "2020-12-21T20:34:26.691185Z"
    },
    "papermill": {
     "duration": 0.05177,
     "end_time": "2020-12-21T20:34:26.692119",
     "exception": false,
     "start_time": "2020-12-21T20:34:26.640349",
     "status": "completed"
    },
    "tags": []
   },
   "outputs": [
    {
     "name": "stdout",
     "output_type": "stream",
     "text": [
      "<class 'pandas.core.frame.DataFrame'>\n",
      "RangeIndex: 301 entries, 0 to 300\n",
      "Data columns (total 9 columns):\n",
      " #   Column         Non-Null Count  Dtype  \n",
      "---  ------         --------------  -----  \n",
      " 0   Car_Name       301 non-null    object \n",
      " 1   Year           301 non-null    int64  \n",
      " 2   Selling_Price  301 non-null    float64\n",
      " 3   Present_Price  301 non-null    float64\n",
      " 4   Kms_Driven     301 non-null    int64  \n",
      " 5   Fuel_Type      301 non-null    object \n",
      " 6   Seller_Type    301 non-null    object \n",
      " 7   Transmission   301 non-null    object \n",
      " 8   Owner          301 non-null    int64  \n",
      "dtypes: float64(2), int64(3), object(4)\n",
      "memory usage: 21.3+ KB\n"
     ]
    }
   ],
   "source": [
    "df_main.info()"
   ]
  },
  {
   "cell_type": "code",
   "execution_count": 6,
   "metadata": {
    "execution": {
     "iopub.execute_input": "2020-12-21T20:34:26.774108Z",
     "iopub.status.busy": "2020-12-21T20:34:26.773280Z",
     "iopub.status.idle": "2020-12-21T20:34:26.798179Z",
     "shell.execute_reply": "2020-12-21T20:34:26.797562Z"
    },
    "papermill": {
     "duration": 0.066165,
     "end_time": "2020-12-21T20:34:26.798311",
     "exception": false,
     "start_time": "2020-12-21T20:34:26.732146",
     "status": "completed"
    },
    "tags": []
   },
   "outputs": [
    {
     "data": {
      "text/html": [
       "<div>\n",
       "<style scoped>\n",
       "    .dataframe tbody tr th:only-of-type {\n",
       "        vertical-align: middle;\n",
       "    }\n",
       "\n",
       "    .dataframe tbody tr th {\n",
       "        vertical-align: top;\n",
       "    }\n",
       "\n",
       "    .dataframe thead th {\n",
       "        text-align: right;\n",
       "    }\n",
       "</style>\n",
       "<table border=\"1\" class=\"dataframe\">\n",
       "  <thead>\n",
       "    <tr style=\"text-align: right;\">\n",
       "      <th></th>\n",
       "      <th>Year</th>\n",
       "      <th>Selling_Price</th>\n",
       "      <th>Present_Price</th>\n",
       "      <th>Kms_Driven</th>\n",
       "      <th>Owner</th>\n",
       "    </tr>\n",
       "  </thead>\n",
       "  <tbody>\n",
       "    <tr>\n",
       "      <th>count</th>\n",
       "      <td>301.000000</td>\n",
       "      <td>301.000000</td>\n",
       "      <td>301.000000</td>\n",
       "      <td>301.000000</td>\n",
       "      <td>301.000000</td>\n",
       "    </tr>\n",
       "    <tr>\n",
       "      <th>mean</th>\n",
       "      <td>2013.627907</td>\n",
       "      <td>4.661296</td>\n",
       "      <td>7.628472</td>\n",
       "      <td>36947.205980</td>\n",
       "      <td>0.043189</td>\n",
       "    </tr>\n",
       "    <tr>\n",
       "      <th>std</th>\n",
       "      <td>2.891554</td>\n",
       "      <td>5.082812</td>\n",
       "      <td>8.644115</td>\n",
       "      <td>38886.883882</td>\n",
       "      <td>0.247915</td>\n",
       "    </tr>\n",
       "    <tr>\n",
       "      <th>min</th>\n",
       "      <td>2003.000000</td>\n",
       "      <td>0.100000</td>\n",
       "      <td>0.320000</td>\n",
       "      <td>500.000000</td>\n",
       "      <td>0.000000</td>\n",
       "    </tr>\n",
       "    <tr>\n",
       "      <th>25%</th>\n",
       "      <td>2012.000000</td>\n",
       "      <td>0.900000</td>\n",
       "      <td>1.200000</td>\n",
       "      <td>15000.000000</td>\n",
       "      <td>0.000000</td>\n",
       "    </tr>\n",
       "    <tr>\n",
       "      <th>50%</th>\n",
       "      <td>2014.000000</td>\n",
       "      <td>3.600000</td>\n",
       "      <td>6.400000</td>\n",
       "      <td>32000.000000</td>\n",
       "      <td>0.000000</td>\n",
       "    </tr>\n",
       "    <tr>\n",
       "      <th>75%</th>\n",
       "      <td>2016.000000</td>\n",
       "      <td>6.000000</td>\n",
       "      <td>9.900000</td>\n",
       "      <td>48767.000000</td>\n",
       "      <td>0.000000</td>\n",
       "    </tr>\n",
       "    <tr>\n",
       "      <th>max</th>\n",
       "      <td>2018.000000</td>\n",
       "      <td>35.000000</td>\n",
       "      <td>92.600000</td>\n",
       "      <td>500000.000000</td>\n",
       "      <td>3.000000</td>\n",
       "    </tr>\n",
       "  </tbody>\n",
       "</table>\n",
       "</div>"
      ],
      "text/plain": [
       "              Year  Selling_Price  Present_Price     Kms_Driven       Owner\n",
       "count   301.000000     301.000000     301.000000     301.000000  301.000000\n",
       "mean   2013.627907       4.661296       7.628472   36947.205980    0.043189\n",
       "std       2.891554       5.082812       8.644115   38886.883882    0.247915\n",
       "min    2003.000000       0.100000       0.320000     500.000000    0.000000\n",
       "25%    2012.000000       0.900000       1.200000   15000.000000    0.000000\n",
       "50%    2014.000000       3.600000       6.400000   32000.000000    0.000000\n",
       "75%    2016.000000       6.000000       9.900000   48767.000000    0.000000\n",
       "max    2018.000000      35.000000      92.600000  500000.000000    3.000000"
      ]
     },
     "execution_count": 6,
     "metadata": {},
     "output_type": "execute_result"
    }
   ],
   "source": [
    "#numerical stats\n",
    "df_main.describe()"
   ]
  },
  {
   "cell_type": "code",
   "execution_count": 7,
   "metadata": {
    "execution": {
     "iopub.execute_input": "2020-12-21T20:34:26.872941Z",
     "iopub.status.busy": "2020-12-21T20:34:26.872215Z",
     "iopub.status.idle": "2020-12-21T20:34:26.877208Z",
     "shell.execute_reply": "2020-12-21T20:34:26.877912Z"
    },
    "papermill": {
     "duration": 0.045725,
     "end_time": "2020-12-21T20:34:26.878055",
     "exception": false,
     "start_time": "2020-12-21T20:34:26.832330",
     "status": "completed"
    },
    "tags": []
   },
   "outputs": [
    {
     "data": {
      "text/plain": [
       "Car_Name         0\n",
       "Year             0\n",
       "Selling_Price    0\n",
       "Present_Price    0\n",
       "Kms_Driven       0\n",
       "Fuel_Type        0\n",
       "Seller_Type      0\n",
       "Transmission     0\n",
       "Owner            0\n",
       "dtype: int64"
      ]
     },
     "execution_count": 7,
     "metadata": {},
     "output_type": "execute_result"
    }
   ],
   "source": [
    "#missing values\n",
    "df_main.isna().sum()"
   ]
  },
  {
   "cell_type": "markdown",
   "metadata": {
    "papermill": {
     "duration": 0.033627,
     "end_time": "2020-12-21T20:34:26.946426",
     "exception": false,
     "start_time": "2020-12-21T20:34:26.912799",
     "status": "completed"
    },
    "tags": []
   },
   "source": [
    "### Data Preprocessing"
   ]
  },
  {
   "cell_type": "code",
   "execution_count": 8,
   "metadata": {
    "execution": {
     "iopub.execute_input": "2020-12-21T20:34:27.017845Z",
     "iopub.status.busy": "2020-12-21T20:34:27.017151Z",
     "iopub.status.idle": "2020-12-21T20:34:27.046619Z",
     "shell.execute_reply": "2020-12-21T20:34:27.046004Z"
    },
    "papermill": {
     "duration": 0.066311,
     "end_time": "2020-12-21T20:34:27.046773",
     "exception": false,
     "start_time": "2020-12-21T20:34:26.980462",
     "status": "completed"
    },
    "tags": []
   },
   "outputs": [],
   "source": [
    "df_main['Age'] = 2020 - df_main['Year']\n",
    "df_main.drop('Year',axis=1,inplace = True)"
   ]
  },
  {
   "cell_type": "code",
   "execution_count": 9,
   "metadata": {
    "execution": {
     "iopub.execute_input": "2020-12-21T20:34:27.122978Z",
     "iopub.status.busy": "2020-12-21T20:34:27.121966Z",
     "iopub.status.idle": "2020-12-21T20:34:27.125412Z",
     "shell.execute_reply": "2020-12-21T20:34:27.124729Z"
    },
    "papermill": {
     "duration": 0.044397,
     "end_time": "2020-12-21T20:34:27.125524",
     "exception": false,
     "start_time": "2020-12-21T20:34:27.081127",
     "status": "completed"
    },
    "tags": []
   },
   "outputs": [],
   "source": [
    "df_main.rename(columns = {'Selling_Price':'Selling_Price(lacs)','Present_Price':'Present_Price(lacs)','Owner':'Past_Owners'},inplace = True)"
   ]
  },
  {
   "cell_type": "markdown",
   "metadata": {
    "papermill": {
     "duration": 0.034228,
     "end_time": "2020-12-21T20:34:27.194120",
     "exception": false,
     "start_time": "2020-12-21T20:34:27.159892",
     "status": "completed"
    },
    "tags": []
   },
   "source": [
    "### Exploratory Data Analysis (EDA)"
   ]
  },
  {
   "cell_type": "markdown",
   "metadata": {
    "papermill": {
     "duration": 0.033953,
     "end_time": "2020-12-21T20:34:27.262435",
     "exception": false,
     "start_time": "2020-12-21T20:34:27.228482",
     "status": "completed"
    },
    "tags": []
   },
   "source": [
    "#### Univariate Analysis"
   ]
  },
  {
   "cell_type": "code",
   "execution_count": 10,
   "metadata": {
    "execution": {
     "iopub.execute_input": "2020-12-21T20:34:27.336959Z",
     "iopub.status.busy": "2020-12-21T20:34:27.336055Z",
     "iopub.status.idle": "2020-12-21T20:34:27.340512Z",
     "shell.execute_reply": "2020-12-21T20:34:27.341273Z"
    },
    "papermill": {
     "duration": 0.044954,
     "end_time": "2020-12-21T20:34:27.341447",
     "exception": false,
     "start_time": "2020-12-21T20:34:27.296493",
     "status": "completed"
    },
    "tags": []
   },
   "outputs": [
    {
     "data": {
      "text/plain": [
       "Index(['Car_Name', 'Selling_Price(lacs)', 'Present_Price(lacs)', 'Kms_Driven',\n",
       "       'Fuel_Type', 'Seller_Type', 'Transmission', 'Past_Owners', 'Age'],\n",
       "      dtype='object')"
      ]
     },
     "execution_count": 10,
     "metadata": {},
     "output_type": "execute_result"
    }
   ],
   "source": [
    "df_main.columns"
   ]
  },
  {
   "cell_type": "code",
   "execution_count": 11,
   "metadata": {
    "execution": {
     "iopub.execute_input": "2020-12-21T20:34:27.420890Z",
     "iopub.status.busy": "2020-12-21T20:34:27.420146Z",
     "iopub.status.idle": "2020-12-21T20:34:27.911476Z",
     "shell.execute_reply": "2020-12-21T20:34:27.912093Z"
    },
    "papermill": {
     "duration": 0.535539,
     "end_time": "2020-12-21T20:34:27.912245",
     "exception": false,
     "start_time": "2020-12-21T20:34:27.376706",
     "status": "completed"
    },
    "tags": []
   },
   "outputs": [
    {
     "data": {
      "image/png": "[encoded data removed]",
      "text/plain": [
       "<Figure size 1000x400 with 2 Axes>"
      ]
     },
     "metadata": {},
     "output_type": "display_data"
    },
    {
     "data": {
      "image/png": "[encoded data removed]",
      "text/plain": [
       "<Figure size 1000x400 with 2 Axes>"
      ]
     },
     "metadata": {},
     "output_type": "display_data"
    }
   ],
   "source": [
    "cat_cols = ['Fuel_Type','Seller_Type','Transmission','Past_Owners']\n",
    "i=0\n",
    "while i < 4:\n",
    "    fig = plt.figure(figsize=[10,4])\n",
    "    #ax1 = fig.add_subplot(121)\n",
    "    #ax2 = fig.add_subplot(122)\n",
    "    \n",
    "    #ax1.title.set_text(cat_cols[i])\n",
    "    plt.subplot(1,2,1)\n",
    "    sns.countplot(x=cat_cols[i], data=df_main)\n",
    "    i += 1\n",
    "    \n",
    "    #ax2.title.set_text(cat_cols[i])\n",
    "    plt.subplot(1,2,2)\n",
    "    sns.countplot(x=cat_cols[i], data=df_main)\n",
    "    i += 1\n",
    "    \n",
    "    plt.show()"
   ]
  },
  {
   "cell_type": "code",
   "execution_count": 12,
   "metadata": {
    "execution": {
     "iopub.execute_input": "2020-12-21T20:34:28.017958Z",
     "iopub.status.busy": "2020-12-21T20:34:28.013334Z",
     "iopub.status.idle": "2020-12-21T20:34:28.441624Z",
     "shell.execute_reply": "2020-12-21T20:34:28.440937Z"
    },
    "papermill": {
     "duration": 0.491483,
     "end_time": "2020-12-21T20:34:28.441768",
     "exception": false,
     "start_time": "2020-12-21T20:34:27.950285",
     "status": "completed"
    },
    "tags": []
   },
   "outputs": [
    {
     "data": {
      "image/png": "[encoded data removed]",
      "text/plain": [
       "<Figure size 1300x300 with 2 Axes>"
      ]
     },
     "metadata": {},
     "output_type": "display_data"
    },
    {
     "data": {
      "image/png": "[encoded data removed]",
      "text/plain": [
       "<Figure size 1300x300 with 2 Axes>"
      ]
     },
     "metadata": {},
     "output_type": "display_data"
    }
   ],
   "source": [
    "num_cols = ['Selling_Price(lacs)','Present_Price(lacs)','Kms_Driven','Age']\n",
    "i=0\n",
    "while i < 4:\n",
    "    fig = plt.figure(figsize=[13,3])\n",
    "    #ax1 = fig.add_subplot(121)\n",
    "    #ax2 = fig.add_subplot(122)\n",
    "    \n",
    "    #ax1.title.set_text(num_cols[i])\n",
    "    plt.subplot(1,2,1)\n",
    "    sns.boxplot(x=num_cols[i], data=df_main)\n",
    "    i += 1\n",
    "    \n",
    "    #ax2.title.set_text(num_cols[i])\n",
    "    plt.subplot(1,2,2)\n",
    "    sns.boxplot(x=num_cols[i], data=df_main)\n",
    "    i += 1\n",
    "    \n",
    "    plt.show()"
   ]
  },
  {
   "cell_type": "code",
   "execution_count": 13,
   "metadata": {
    "execution": {
     "iopub.execute_input": "2020-12-21T20:34:28.538710Z",
     "iopub.status.busy": "2020-12-21T20:34:28.537526Z",
     "iopub.status.idle": "2020-12-21T20:34:28.543231Z",
     "shell.execute_reply": "2020-12-21T20:34:28.542518Z"
    },
    "papermill": {
     "duration": 0.06315,
     "end_time": "2020-12-21T20:34:28.543351",
     "exception": false,
     "start_time": "2020-12-21T20:34:28.480201",
     "status": "completed"
    },
    "tags": []
   },
   "outputs": [
    {
     "data": {
      "text/html": [
       "<div>\n",
       "<style scoped>\n",
       "    .dataframe tbody tr th:only-of-type {\n",
       "        vertical-align: middle;\n",
       "    }\n",
       "\n",
       "    .dataframe tbody tr th {\n",
       "        vertical-align: top;\n",
       "    }\n",
       "\n",
       "    .dataframe thead th {\n",
       "        text-align: right;\n",
       "    }\n",
       "</style>\n",
       "<table border=\"1\" class=\"dataframe\">\n",
       "  <thead>\n",
       "    <tr style=\"text-align: right;\">\n",
       "      <th></th>\n",
       "      <th>Car_Name</th>\n",
       "      <th>Selling_Price(lacs)</th>\n",
       "      <th>Present_Price(lacs)</th>\n",
       "      <th>Kms_Driven</th>\n",
       "      <th>Fuel_Type</th>\n",
       "      <th>Seller_Type</th>\n",
       "      <th>Transmission</th>\n",
       "      <th>Past_Owners</th>\n",
       "      <th>Age</th>\n",
       "    </tr>\n",
       "  </thead>\n",
       "  <tbody>\n",
       "    <tr>\n",
       "      <th>64</th>\n",
       "      <td>fortuner</td>\n",
       "      <td>33.0</td>\n",
       "      <td>36.23</td>\n",
       "      <td>6000</td>\n",
       "      <td>Diesel</td>\n",
       "      <td>Dealer</td>\n",
       "      <td>Automatic</td>\n",
       "      <td>0</td>\n",
       "      <td>3</td>\n",
       "    </tr>\n",
       "    <tr>\n",
       "      <th>86</th>\n",
       "      <td>land cruiser</td>\n",
       "      <td>35.0</td>\n",
       "      <td>92.60</td>\n",
       "      <td>78000</td>\n",
       "      <td>Diesel</td>\n",
       "      <td>Dealer</td>\n",
       "      <td>Manual</td>\n",
       "      <td>0</td>\n",
       "      <td>10</td>\n",
       "    </tr>\n",
       "  </tbody>\n",
       "</table>\n",
       "</div>"
      ],
      "text/plain": [
       "        Car_Name  Selling_Price(lacs)  Present_Price(lacs)  Kms_Driven  \\\n",
       "64      fortuner                 33.0                36.23        6000   \n",
       "86  land cruiser                 35.0                92.60       78000   \n",
       "\n",
       "   Fuel_Type Seller_Type Transmission  Past_Owners  Age  \n",
       "64    Diesel      Dealer    Automatic            0    3  \n",
       "86    Diesel      Dealer       Manual            0   10  "
      ]
     },
     "execution_count": 13,
     "metadata": {},
     "output_type": "execute_result"
    }
   ],
   "source": [
    "df_main[df_main['Present_Price(lacs)'] > df_main['Present_Price(lacs)'].quantile(0.99)]"
   ]
  },
  {
   "cell_type": "code",
   "execution_count": 14,
   "metadata": {
    "execution": {
     "iopub.execute_input": "2020-12-21T20:34:28.635865Z",
     "iopub.status.busy": "2020-12-21T20:34:28.633302Z",
     "iopub.status.idle": "2020-12-21T20:34:28.649575Z",
     "shell.execute_reply": "2020-12-21T20:34:28.648893Z"
    },
    "papermill": {
     "duration": 0.06714,
     "end_time": "2020-12-21T20:34:28.649699",
     "exception": false,
     "start_time": "2020-12-21T20:34:28.582559",
     "status": "completed"
    },
    "tags": []
   },
   "outputs": [
    {
     "data": {
      "text/html": [
       "<div>\n",
       "<style scoped>\n",
       "    .dataframe tbody tr th:only-of-type {\n",
       "        vertical-align: middle;\n",
       "    }\n",
       "\n",
       "    .dataframe tbody tr th {\n",
       "        vertical-align: top;\n",
       "    }\n",
       "\n",
       "    .dataframe thead th {\n",
       "        text-align: right;\n",
       "    }\n",
       "</style>\n",
       "<table border=\"1\" class=\"dataframe\">\n",
       "  <thead>\n",
       "    <tr style=\"text-align: right;\">\n",
       "      <th></th>\n",
       "      <th>Car_Name</th>\n",
       "      <th>Selling_Price(lacs)</th>\n",
       "      <th>Present_Price(lacs)</th>\n",
       "      <th>Kms_Driven</th>\n",
       "      <th>Fuel_Type</th>\n",
       "      <th>Seller_Type</th>\n",
       "      <th>Transmission</th>\n",
       "      <th>Past_Owners</th>\n",
       "      <th>Age</th>\n",
       "    </tr>\n",
       "  </thead>\n",
       "  <tbody>\n",
       "    <tr>\n",
       "      <th>63</th>\n",
       "      <td>fortuner</td>\n",
       "      <td>23.5</td>\n",
       "      <td>35.96</td>\n",
       "      <td>47000</td>\n",
       "      <td>Diesel</td>\n",
       "      <td>Dealer</td>\n",
       "      <td>Automatic</td>\n",
       "      <td>0</td>\n",
       "      <td>5</td>\n",
       "    </tr>\n",
       "    <tr>\n",
       "      <th>64</th>\n",
       "      <td>fortuner</td>\n",
       "      <td>33.0</td>\n",
       "      <td>36.23</td>\n",
       "      <td>6000</td>\n",
       "      <td>Diesel</td>\n",
       "      <td>Dealer</td>\n",
       "      <td>Automatic</td>\n",
       "      <td>0</td>\n",
       "      <td>3</td>\n",
       "    </tr>\n",
       "    <tr>\n",
       "      <th>86</th>\n",
       "      <td>land cruiser</td>\n",
       "      <td>35.0</td>\n",
       "      <td>92.60</td>\n",
       "      <td>78000</td>\n",
       "      <td>Diesel</td>\n",
       "      <td>Dealer</td>\n",
       "      <td>Manual</td>\n",
       "      <td>0</td>\n",
       "      <td>10</td>\n",
       "    </tr>\n",
       "  </tbody>\n",
       "</table>\n",
       "</div>"
      ],
      "text/plain": [
       "        Car_Name  Selling_Price(lacs)  Present_Price(lacs)  Kms_Driven  \\\n",
       "63      fortuner                 23.5                35.96       47000   \n",
       "64      fortuner                 33.0                36.23        6000   \n",
       "86  land cruiser                 35.0                92.60       78000   \n",
       "\n",
       "   Fuel_Type Seller_Type Transmission  Past_Owners  Age  \n",
       "63    Diesel      Dealer    Automatic            0    5  \n",
       "64    Diesel      Dealer    Automatic            0    3  \n",
       "86    Diesel      Dealer       Manual            0   10  "
      ]
     },
     "execution_count": 14,
     "metadata": {},
     "output_type": "execute_result"
    }
   ],
   "source": [
    "df_main[df_main['Selling_Price(lacs)'] > df_main['Selling_Price(lacs)'].quantile(0.99)]"
   ]
  },
  {
   "cell_type": "code",
   "execution_count": 15,
   "metadata": {
    "execution": {
     "iopub.execute_input": "2020-12-21T20:34:28.745896Z",
     "iopub.status.busy": "2020-12-21T20:34:28.745178Z",
     "iopub.status.idle": "2020-12-21T20:34:28.749861Z",
     "shell.execute_reply": "2020-12-21T20:34:28.749214Z"
    },
    "papermill": {
     "duration": 0.060353,
     "end_time": "2020-12-21T20:34:28.749980",
     "exception": false,
     "start_time": "2020-12-21T20:34:28.689627",
     "status": "completed"
    },
    "tags": []
   },
   "outputs": [
    {
     "data": {
      "text/html": [
       "<div>\n",
       "<style scoped>\n",
       "    .dataframe tbody tr th:only-of-type {\n",
       "        vertical-align: middle;\n",
       "    }\n",
       "\n",
       "    .dataframe tbody tr th {\n",
       "        vertical-align: top;\n",
       "    }\n",
       "\n",
       "    .dataframe thead th {\n",
       "        text-align: right;\n",
       "    }\n",
       "</style>\n",
       "<table border=\"1\" class=\"dataframe\">\n",
       "  <thead>\n",
       "    <tr style=\"text-align: right;\">\n",
       "      <th></th>\n",
       "      <th>Car_Name</th>\n",
       "      <th>Selling_Price(lacs)</th>\n",
       "      <th>Present_Price(lacs)</th>\n",
       "      <th>Kms_Driven</th>\n",
       "      <th>Fuel_Type</th>\n",
       "      <th>Seller_Type</th>\n",
       "      <th>Transmission</th>\n",
       "      <th>Past_Owners</th>\n",
       "      <th>Age</th>\n",
       "    </tr>\n",
       "  </thead>\n",
       "  <tbody>\n",
       "    <tr>\n",
       "      <th>84</th>\n",
       "      <td>innova</td>\n",
       "      <td>3.49</td>\n",
       "      <td>13.46</td>\n",
       "      <td>197176</td>\n",
       "      <td>Diesel</td>\n",
       "      <td>Dealer</td>\n",
       "      <td>Manual</td>\n",
       "      <td>0</td>\n",
       "      <td>15</td>\n",
       "    </tr>\n",
       "    <tr>\n",
       "      <th>179</th>\n",
       "      <td>Honda Karizma</td>\n",
       "      <td>0.31</td>\n",
       "      <td>1.05</td>\n",
       "      <td>213000</td>\n",
       "      <td>Petrol</td>\n",
       "      <td>Individual</td>\n",
       "      <td>Manual</td>\n",
       "      <td>0</td>\n",
       "      <td>10</td>\n",
       "    </tr>\n",
       "    <tr>\n",
       "      <th>196</th>\n",
       "      <td>Activa 3g</td>\n",
       "      <td>0.17</td>\n",
       "      <td>0.52</td>\n",
       "      <td>500000</td>\n",
       "      <td>Petrol</td>\n",
       "      <td>Individual</td>\n",
       "      <td>Automatic</td>\n",
       "      <td>0</td>\n",
       "      <td>12</td>\n",
       "    </tr>\n",
       "  </tbody>\n",
       "</table>\n",
       "</div>"
      ],
      "text/plain": [
       "          Car_Name  Selling_Price(lacs)  Present_Price(lacs)  Kms_Driven  \\\n",
       "84          innova                 3.49                13.46      197176   \n",
       "179  Honda Karizma                 0.31                 1.05      213000   \n",
       "196      Activa 3g                 0.17                 0.52      500000   \n",
       "\n",
       "    Fuel_Type Seller_Type Transmission  Past_Owners  Age  \n",
       "84     Diesel      Dealer       Manual            0   15  \n",
       "179    Petrol  Individual       Manual            0   10  \n",
       "196    Petrol  Individual    Automatic            0   12  "
      ]
     },
     "execution_count": 15,
     "metadata": {},
     "output_type": "execute_result"
    }
   ],
   "source": [
    "df_main[df_main['Kms_Driven'] > df_main['Kms_Driven'].quantile(0.99)]"
   ]
  },
  {
   "cell_type": "code",
   "execution_count": 16,
   "metadata": {
    "execution": {
     "iopub.execute_input": "2020-12-21T20:34:28.922361Z",
     "iopub.status.busy": "2020-12-21T20:34:28.921287Z",
     "iopub.status.idle": "2020-12-21T20:34:29.291196Z",
     "shell.execute_reply": "2020-12-21T20:34:29.291674Z"
    },
    "papermill": {
     "duration": 0.420676,
     "end_time": "2020-12-21T20:34:29.291858",
     "exception": false,
     "start_time": "2020-12-21T20:34:28.871182",
     "status": "completed"
    },
    "tags": []
   },
   "outputs": [
    {
     "data": {
      "image/png": "[encoded data removed]",
      "text/plain": [
       "<Figure size 800x550 with 2 Axes>"
      ]
     },
     "metadata": {},
     "output_type": "display_data"
    }
   ],
   "source": [
    "numeric_df = df_main.select_dtypes(include=[np.number])  # Select only numeric columns\n",
    "sns.heatmap(numeric_df.corr(), annot=True, cmap=\"RdBu\")\n",
    "plt.show()"
   ]
  },
  {
   "cell_type": "code",
   "execution_count": 19,
   "metadata": {
    "execution": {
     "iopub.execute_input": "2020-12-21T20:34:29.386732Z",
     "iopub.status.busy": "2020-12-21T20:34:29.385678Z",
     "iopub.status.idle": "2020-12-21T20:34:29.390392Z",
     "shell.execute_reply": "2020-12-21T20:34:29.389874Z"
    },
    "papermill": {
     "duration": 0.055784,
     "end_time": "2020-12-21T20:34:29.390508",
     "exception": false,
     "start_time": "2020-12-21T20:34:29.334724",
     "status": "completed"
    },
    "tags": []
   },
   "outputs": [],
   "source": [
    "numeric_df = df_main.select_dtypes(include=[np.number])  # Select only numeric columns\n",
    "selling_price_corr = numeric_df.corr()['Selling_Price(lacs)']"
   ]
  },
  {
   "cell_type": "code",
   "execution_count": 20,
   "metadata": {
    "execution": {
     "iopub.execute_input": "2020-12-21T20:34:29.493317Z",
     "iopub.status.busy": "2020-12-21T20:34:29.489310Z",
     "iopub.status.idle": "2020-12-21T20:34:29.506446Z",
     "shell.execute_reply": "2020-12-21T20:34:29.505797Z"
    },
    "papermill": {
     "duration": 0.073727,
     "end_time": "2020-12-21T20:34:29.506562",
     "exception": false,
     "start_time": "2020-12-21T20:34:29.432835",
     "status": "completed"
    },
    "tags": []
   },
   "outputs": [
    {
     "data": {
      "text/html": [
       "<div>\n",
       "<style scoped>\n",
       "    .dataframe tbody tr th:only-of-type {\n",
       "        vertical-align: middle;\n",
       "    }\n",
       "\n",
       "    .dataframe tbody tr th {\n",
       "        vertical-align: top;\n",
       "    }\n",
       "\n",
       "    .dataframe thead th {\n",
       "        text-align: right;\n",
       "    }\n",
       "</style>\n",
       "<table border=\"1\" class=\"dataframe\">\n",
       "  <thead>\n",
       "    <tr style=\"text-align: right;\">\n",
       "      <th>Fuel_Type</th>\n",
       "      <th>CNG</th>\n",
       "      <th>Diesel</th>\n",
       "      <th>Petrol</th>\n",
       "    </tr>\n",
       "    <tr>\n",
       "      <th>Seller_Type</th>\n",
       "      <th></th>\n",
       "      <th></th>\n",
       "      <th></th>\n",
       "    </tr>\n",
       "  </thead>\n",
       "  <tbody>\n",
       "    <tr>\n",
       "      <th>Dealer</th>\n",
       "      <td>3.1</td>\n",
       "      <td>10.181525</td>\n",
       "      <td>5.252388</td>\n",
       "    </tr>\n",
       "    <tr>\n",
       "      <th>Individual</th>\n",
       "      <td>NaN</td>\n",
       "      <td>16.000000</td>\n",
       "      <td>0.726857</td>\n",
       "    </tr>\n",
       "  </tbody>\n",
       "</table>\n",
       "</div>"
      ],
      "text/plain": [
       "Fuel_Type    CNG     Diesel    Petrol\n",
       "Seller_Type                          \n",
       "Dealer       3.1  10.181525  5.252388\n",
       "Individual   NaN  16.000000  0.726857"
      ]
     },
     "execution_count": 20,
     "metadata": {},
     "output_type": "execute_result"
    }
   ],
   "source": [
    "df_main.pivot_table(values='Selling_Price(lacs)', index = 'Seller_Type', columns= 'Fuel_Type')"
   ]
  },
  {
   "cell_type": "code",
   "execution_count": 21,
   "metadata": {
    "execution": {
     "iopub.execute_input": "2020-12-21T20:34:29.609836Z",
     "iopub.status.busy": "2020-12-21T20:34:29.604357Z",
     "iopub.status.idle": "2020-12-21T20:34:29.629846Z",
     "shell.execute_reply": "2020-12-21T20:34:29.630820Z"
    },
    "papermill": {
     "duration": 0.078626,
     "end_time": "2020-12-21T20:34:29.631053",
     "exception": false,
     "start_time": "2020-12-21T20:34:29.552427",
     "status": "completed"
    },
    "tags": []
   },
   "outputs": [
    {
     "data": {
      "text/html": [
       "<div>\n",
       "<style scoped>\n",
       "    .dataframe tbody tr th:only-of-type {\n",
       "        vertical-align: middle;\n",
       "    }\n",
       "\n",
       "    .dataframe tbody tr th {\n",
       "        vertical-align: top;\n",
       "    }\n",
       "\n",
       "    .dataframe thead th {\n",
       "        text-align: right;\n",
       "    }\n",
       "</style>\n",
       "<table border=\"1\" class=\"dataframe\">\n",
       "  <thead>\n",
       "    <tr style=\"text-align: right;\">\n",
       "      <th>Transmission</th>\n",
       "      <th>Automatic</th>\n",
       "      <th>Manual</th>\n",
       "    </tr>\n",
       "    <tr>\n",
       "      <th>Seller_Type</th>\n",
       "      <th></th>\n",
       "      <th></th>\n",
       "    </tr>\n",
       "  </thead>\n",
       "  <tbody>\n",
       "    <tr>\n",
       "      <th>Dealer</th>\n",
       "      <td>12.246552</td>\n",
       "      <td>5.756506</td>\n",
       "    </tr>\n",
       "    <tr>\n",
       "      <th>Individual</th>\n",
       "      <td>1.968182</td>\n",
       "      <td>0.743895</td>\n",
       "    </tr>\n",
       "  </tbody>\n",
       "</table>\n",
       "</div>"
      ],
      "text/plain": [
       "Transmission  Automatic    Manual\n",
       "Seller_Type                      \n",
       "Dealer        12.246552  5.756506\n",
       "Individual     1.968182  0.743895"
      ]
     },
     "execution_count": 21,
     "metadata": {},
     "output_type": "execute_result"
    }
   ],
   "source": [
    "df_main.pivot_table(values='Selling_Price(lacs)', index = 'Seller_Type', columns= 'Transmission')"
   ]
  },
  {
   "cell_type": "markdown",
   "metadata": {
    "papermill": {
     "duration": 0.043203,
     "end_time": "2020-12-21T20:34:29.724490",
     "exception": false,
     "start_time": "2020-12-21T20:34:29.681287",
     "status": "completed"
    },
    "tags": []
   },
   "source": [
    "### Data Preparation"
   ]
  },
  {
   "cell_type": "markdown",
   "metadata": {
    "papermill": {
     "duration": 0.044421,
     "end_time": "2020-12-21T20:34:29.813337",
     "exception": false,
     "start_time": "2020-12-21T20:34:29.768916",
     "status": "completed"
    },
    "tags": []
   },
   "source": [
    "#### Creating Dummies for Categorical Features"
   ]
  },
  {
   "cell_type": "code",
   "execution_count": 22,
   "metadata": {
    "execution": {
     "iopub.execute_input": "2020-12-21T20:34:29.904605Z",
     "iopub.status.busy": "2020-12-21T20:34:29.903927Z",
     "iopub.status.idle": "2020-12-21T20:34:29.911595Z",
     "shell.execute_reply": "2020-12-21T20:34:29.911035Z"
    },
    "papermill": {
     "duration": 0.054384,
     "end_time": "2020-12-21T20:34:29.911743",
     "exception": false,
     "start_time": "2020-12-21T20:34:29.857359",
     "status": "completed"
    },
    "tags": []
   },
   "outputs": [],
   "source": [
    "df_main.drop(labels='Car_Name',axis= 1, inplace = True)"
   ]
  },
  {
   "cell_type": "code",
   "execution_count": 23,
   "metadata": {
    "execution": {
     "iopub.execute_input": "2020-12-21T20:34:30.014145Z",
     "iopub.status.busy": "2020-12-21T20:34:30.013022Z",
     "iopub.status.idle": "2020-12-21T20:34:30.017768Z",
     "shell.execute_reply": "2020-12-21T20:34:30.017102Z"
    },
    "papermill": {
     "duration": 0.061072,
     "end_time": "2020-12-21T20:34:30.017883",
     "exception": false,
     "start_time": "2020-12-21T20:34:29.956811",
     "status": "completed"
    },
    "tags": []
   },
   "outputs": [
    {
     "data": {
      "text/html": [
       "<div>\n",
       "<style scoped>\n",
       "    .dataframe tbody tr th:only-of-type {\n",
       "        vertical-align: middle;\n",
       "    }\n",
       "\n",
       "    .dataframe tbody tr th {\n",
       "        vertical-align: top;\n",
       "    }\n",
       "\n",
       "    .dataframe thead th {\n",
       "        text-align: right;\n",
       "    }\n",
       "</style>\n",
       "<table border=\"1\" class=\"dataframe\">\n",
       "  <thead>\n",
       "    <tr style=\"text-align: right;\">\n",
       "      <th></th>\n",
       "      <th>Selling_Price(lacs)</th>\n",
       "      <th>Present_Price(lacs)</th>\n",
       "      <th>Kms_Driven</th>\n",
       "      <th>Fuel_Type</th>\n",
       "      <th>Seller_Type</th>\n",
       "      <th>Transmission</th>\n",
       "      <th>Past_Owners</th>\n",
       "      <th>Age</th>\n",
       "    </tr>\n",
       "  </thead>\n",
       "  <tbody>\n",
       "    <tr>\n",
       "      <th>0</th>\n",
       "      <td>3.35</td>\n",
       "      <td>5.59</td>\n",
       "      <td>27000</td>\n",
       "      <td>Petrol</td>\n",
       "      <td>Dealer</td>\n",
       "      <td>Manual</td>\n",
       "      <td>0</td>\n",
       "      <td>6</td>\n",
       "    </tr>\n",
       "    <tr>\n",
       "      <th>1</th>\n",
       "      <td>4.75</td>\n",
       "      <td>9.54</td>\n",
       "      <td>43000</td>\n",
       "      <td>Diesel</td>\n",
       "      <td>Dealer</td>\n",
       "      <td>Manual</td>\n",
       "      <td>0</td>\n",
       "      <td>7</td>\n",
       "    </tr>\n",
       "    <tr>\n",
       "      <th>2</th>\n",
       "      <td>7.25</td>\n",
       "      <td>9.85</td>\n",
       "      <td>6900</td>\n",
       "      <td>Petrol</td>\n",
       "      <td>Dealer</td>\n",
       "      <td>Manual</td>\n",
       "      <td>0</td>\n",
       "      <td>3</td>\n",
       "    </tr>\n",
       "    <tr>\n",
       "      <th>3</th>\n",
       "      <td>2.85</td>\n",
       "      <td>4.15</td>\n",
       "      <td>5200</td>\n",
       "      <td>Petrol</td>\n",
       "      <td>Dealer</td>\n",
       "      <td>Manual</td>\n",
       "      <td>0</td>\n",
       "      <td>9</td>\n",
       "    </tr>\n",
       "    <tr>\n",
       "      <th>4</th>\n",
       "      <td>4.60</td>\n",
       "      <td>6.87</td>\n",
       "      <td>42450</td>\n",
       "      <td>Diesel</td>\n",
       "      <td>Dealer</td>\n",
       "      <td>Manual</td>\n",
       "      <td>0</td>\n",
       "      <td>6</td>\n",
       "    </tr>\n",
       "  </tbody>\n",
       "</table>\n",
       "</div>"
      ],
      "text/plain": [
       "   Selling_Price(lacs)  Present_Price(lacs)  Kms_Driven Fuel_Type Seller_Type  \\\n",
       "0                 3.35                 5.59       27000    Petrol      Dealer   \n",
       "1                 4.75                 9.54       43000    Diesel      Dealer   \n",
       "2                 7.25                 9.85        6900    Petrol      Dealer   \n",
       "3                 2.85                 4.15        5200    Petrol      Dealer   \n",
       "4                 4.60                 6.87       42450    Diesel      Dealer   \n",
       "\n",
       "  Transmission  Past_Owners  Age  \n",
       "0       Manual            0    6  \n",
       "1       Manual            0    7  \n",
       "2       Manual            0    3  \n",
       "3       Manual            0    9  \n",
       "4       Manual            0    6  "
      ]
     },
     "execution_count": 23,
     "metadata": {},
     "output_type": "execute_result"
    }
   ],
   "source": [
    "df_main.head()"
   ]
  },
  {
   "cell_type": "code",
   "execution_count": 24,
   "metadata": {
    "execution": {
     "iopub.execute_input": "2020-12-21T20:34:30.115190Z",
     "iopub.status.busy": "2020-12-21T20:34:30.113105Z",
     "iopub.status.idle": "2020-12-21T20:34:30.122575Z",
     "shell.execute_reply": "2020-12-21T20:34:30.122000Z"
    },
    "papermill": {
     "duration": 0.060741,
     "end_time": "2020-12-21T20:34:30.122703",
     "exception": false,
     "start_time": "2020-12-21T20:34:30.061962",
     "status": "completed"
    },
    "tags": []
   },
   "outputs": [],
   "source": [
    "df_main = pd.get_dummies(data = df_main,drop_first=True) "
   ]
  },
  {
   "cell_type": "code",
   "execution_count": 25,
   "metadata": {
    "execution": {
     "iopub.execute_input": "2020-12-21T20:34:30.216268Z",
     "iopub.status.busy": "2020-12-21T20:34:30.215233Z",
     "iopub.status.idle": "2020-12-21T20:34:30.228417Z",
     "shell.execute_reply": "2020-12-21T20:34:30.228951Z"
    },
    "papermill": {
     "duration": 0.061437,
     "end_time": "2020-12-21T20:34:30.229101",
     "exception": false,
     "start_time": "2020-12-21T20:34:30.167664",
     "status": "completed"
    },
    "tags": []
   },
   "outputs": [
    {
     "data": {
      "text/html": [
       "<div>\n",
       "<style scoped>\n",
       "    .dataframe tbody tr th:only-of-type {\n",
       "        vertical-align: middle;\n",
       "    }\n",
       "\n",
       "    .dataframe tbody tr th {\n",
       "        vertical-align: top;\n",
       "    }\n",
       "\n",
       "    .dataframe thead th {\n",
       "        text-align: right;\n",
       "    }\n",
       "</style>\n",
       "<table border=\"1\" class=\"dataframe\">\n",
       "  <thead>\n",
       "    <tr style=\"text-align: right;\">\n",
       "      <th></th>\n",
       "      <th>Selling_Price(lacs)</th>\n",
       "      <th>Present_Price(lacs)</th>\n",
       "      <th>Kms_Driven</th>\n",
       "      <th>Past_Owners</th>\n",
       "      <th>Age</th>\n",
       "      <th>Fuel_Type_Diesel</th>\n",
       "      <th>Fuel_Type_Petrol</th>\n",
       "      <th>Seller_Type_Individual</th>\n",
       "      <th>Transmission_Manual</th>\n",
       "    </tr>\n",
       "  </thead>\n",
       "  <tbody>\n",
       "    <tr>\n",
       "      <th>0</th>\n",
       "      <td>3.35</td>\n",
       "      <td>5.59</td>\n",
       "      <td>27000</td>\n",
       "      <td>0</td>\n",
       "      <td>6</td>\n",
       "      <td>False</td>\n",
       "      <td>True</td>\n",
       "      <td>False</td>\n",
       "      <td>True</td>\n",
       "    </tr>\n",
       "    <tr>\n",
       "      <th>1</th>\n",
       "      <td>4.75</td>\n",
       "      <td>9.54</td>\n",
       "      <td>43000</td>\n",
       "      <td>0</td>\n",
       "      <td>7</td>\n",
       "      <td>True</td>\n",
       "      <td>False</td>\n",
       "      <td>False</td>\n",
       "      <td>True</td>\n",
       "    </tr>\n",
       "    <tr>\n",
       "      <th>2</th>\n",
       "      <td>7.25</td>\n",
       "      <td>9.85</td>\n",
       "      <td>6900</td>\n",
       "      <td>0</td>\n",
       "      <td>3</td>\n",
       "      <td>False</td>\n",
       "      <td>True</td>\n",
       "      <td>False</td>\n",
       "      <td>True</td>\n",
       "    </tr>\n",
       "    <tr>\n",
       "      <th>3</th>\n",
       "      <td>2.85</td>\n",
       "      <td>4.15</td>\n",
       "      <td>5200</td>\n",
       "      <td>0</td>\n",
       "      <td>9</td>\n",
       "      <td>False</td>\n",
       "      <td>True</td>\n",
       "      <td>False</td>\n",
       "      <td>True</td>\n",
       "    </tr>\n",
       "    <tr>\n",
       "      <th>4</th>\n",
       "      <td>4.60</td>\n",
       "      <td>6.87</td>\n",
       "      <td>42450</td>\n",
       "      <td>0</td>\n",
       "      <td>6</td>\n",
       "      <td>True</td>\n",
       "      <td>False</td>\n",
       "      <td>False</td>\n",
       "      <td>True</td>\n",
       "    </tr>\n",
       "  </tbody>\n",
       "</table>\n",
       "</div>"
      ],
      "text/plain": [
       "   Selling_Price(lacs)  Present_Price(lacs)  Kms_Driven  Past_Owners  Age  \\\n",
       "0                 3.35                 5.59       27000            0    6   \n",
       "1                 4.75                 9.54       43000            0    7   \n",
       "2                 7.25                 9.85        6900            0    3   \n",
       "3                 2.85                 4.15        5200            0    9   \n",
       "4                 4.60                 6.87       42450            0    6   \n",
       "\n",
       "   Fuel_Type_Diesel  Fuel_Type_Petrol  Seller_Type_Individual  \\\n",
       "0             False              True                   False   \n",
       "1              True             False                   False   \n",
       "2             False              True                   False   \n",
       "3             False              True                   False   \n",
       "4              True             False                   False   \n",
       "\n",
       "   Transmission_Manual  \n",
       "0                 True  \n",
       "1                 True  \n",
       "2                 True  \n",
       "3                 True  \n",
       "4                 True  "
      ]
     },
     "execution_count": 25,
     "metadata": {},
     "output_type": "execute_result"
    }
   ],
   "source": [
    "df_main.head()"
   ]
  },
  {
   "cell_type": "markdown",
   "metadata": {
    "papermill": {
     "duration": 0.04556,
     "end_time": "2020-12-21T20:34:30.319499",
     "exception": false,
     "start_time": "2020-12-21T20:34:30.273939",
     "status": "completed"
    },
    "tags": []
   },
   "source": [
    "### Train-Test Split"
   ]
  },
  {
   "cell_type": "code",
   "execution_count": 26,
   "metadata": {
    "execution": {
     "iopub.execute_input": "2020-12-21T20:34:30.416587Z",
     "iopub.status.busy": "2020-12-21T20:34:30.415568Z",
     "iopub.status.idle": "2020-12-21T20:34:30.421772Z",
     "shell.execute_reply": "2020-12-21T20:34:30.422305Z"
    },
    "papermill": {
     "duration": 0.05552,
     "end_time": "2020-12-21T20:34:30.422442",
     "exception": false,
     "start_time": "2020-12-21T20:34:30.366922",
     "status": "completed"
    },
    "tags": []
   },
   "outputs": [],
   "source": [
    "# Separating target variable and its features\n",
    "y = df_main['Selling_Price(lacs)']\n",
    "X = df_main.drop('Selling_Price(lacs)',axis=1)"
   ]
  },
  {
   "cell_type": "code",
   "execution_count": 27,
   "metadata": {
    "execution": {
     "iopub.execute_input": "2020-12-21T20:34:30.518472Z",
     "iopub.status.busy": "2020-12-21T20:34:30.517454Z",
     "iopub.status.idle": "2020-12-21T20:34:30.658820Z",
     "shell.execute_reply": "2020-12-21T20:34:30.657002Z"
    },
    "papermill": {
     "duration": 0.189848,
     "end_time": "2020-12-21T20:34:30.658980",
     "exception": false,
     "start_time": "2020-12-21T20:34:30.469132",
     "status": "completed"
    },
    "tags": []
   },
   "outputs": [],
   "source": [
    "from sklearn.model_selection import train_test_split"
   ]
  },
  {
   "cell_type": "code",
   "execution_count": 28,
   "metadata": {
    "execution": {
     "iopub.execute_input": "2020-12-21T20:34:30.773046Z",
     "iopub.status.busy": "2020-12-21T20:34:30.771967Z",
     "iopub.status.idle": "2020-12-21T20:34:30.785738Z",
     "shell.execute_reply": "2020-12-21T20:34:30.786720Z"
    },
    "papermill": {
     "duration": 0.07607,
     "end_time": "2020-12-21T20:34:30.786978",
     "exception": false,
     "start_time": "2020-12-21T20:34:30.710908",
     "status": "completed"
    },
    "tags": []
   },
   "outputs": [
    {
     "name": "stdout",
     "output_type": "stream",
     "text": [
      "x train:  (240, 8)\n",
      "x test:  (61, 8)\n",
      "y train:  (240,)\n",
      "y test:  (61,)\n"
     ]
    }
   ],
   "source": [
    "X_train, X_test, y_train, y_test = train_test_split(X, y, test_size=0.2, random_state=1)\n",
    "print(\"x train: \",X_train.shape)\n",
    "print(\"x test: \",X_test.shape)\n",
    "print(\"y train: \",y_train.shape)\n",
    "print(\"y test: \",y_test.shape)"
   ]
  },
  {
   "cell_type": "markdown",
   "metadata": {
    "papermill": {
     "duration": 0.045923,
     "end_time": "2020-12-21T20:34:30.883302",
     "exception": false,
     "start_time": "2020-12-21T20:34:30.837379",
     "status": "completed"
    },
    "tags": []
   },
   "source": [
    "### Model Creation/Evaluation"
   ]
  },
  {
   "cell_type": "markdown",
   "metadata": {
    "papermill": {
     "duration": 0.046023,
     "end_time": "2020-12-21T20:34:30.975436",
     "exception": false,
     "start_time": "2020-12-21T20:34:30.929413",
     "status": "completed"
    },
    "tags": []
   },
   "source": [
    "#### Applying regression models\n",
    "1. Linear Regression \n",
    "2. Ridge Regression\n",
    "3. Lasso Regression\n",
    "4. Random Forest Regression\n",
    "5. Gradient Boosting regression"
   ]
  },
  {
   "cell_type": "code",
   "execution_count": 29,
   "metadata": {
    "execution": {
     "iopub.execute_input": "2020-12-21T20:34:31.070974Z",
     "iopub.status.busy": "2020-12-21T20:34:31.070160Z",
     "iopub.status.idle": "2020-12-21T20:34:31.073786Z",
     "shell.execute_reply": "2020-12-21T20:34:31.074396Z"
    },
    "papermill": {
     "duration": 0.053167,
     "end_time": "2020-12-21T20:34:31.074606",
     "exception": false,
     "start_time": "2020-12-21T20:34:31.021439",
     "status": "completed"
    },
    "tags": []
   },
   "outputs": [],
   "source": [
    "from sklearn.metrics import r2_score\n",
    "from sklearn.model_selection import cross_val_score"
   ]
  },
  {
   "cell_type": "code",
   "execution_count": 30,
   "metadata": {
    "execution": {
     "iopub.execute_input": "2020-12-21T20:34:31.172080Z",
     "iopub.status.busy": "2020-12-21T20:34:31.171244Z",
     "iopub.status.idle": "2020-12-21T20:34:31.186866Z",
     "shell.execute_reply": "2020-12-21T20:34:31.187386Z"
    },
    "papermill": {
     "duration": 0.066241,
     "end_time": "2020-12-21T20:34:31.187643",
     "exception": false,
     "start_time": "2020-12-21T20:34:31.121402",
     "status": "completed"
    },
    "tags": []
   },
   "outputs": [],
   "source": [
    "CV = []\n",
    "R2_train = []\n",
    "R2_test = []\n",
    "\n",
    "def car_pred_model(model,model_name):\n",
    "    # Training model\n",
    "    model.fit(X_train,y_train)\n",
    "            \n",
    "    # R2 score of train set\n",
    "    y_pred_train = model.predict(X_train)\n",
    "    R2_train_model = r2_score(y_train,y_pred_train)\n",
    "    R2_train.append(round(R2_train_model,2))\n",
    "    \n",
    "    # R2 score of test set\n",
    "    y_pred_test = model.predict(X_test)\n",
    "    R2_test_model = r2_score(y_test,y_pred_test)\n",
    "    R2_test.append(round(R2_test_model,2))\n",
    "    \n",
    "    # R2 mean of train set using Cross validation\n",
    "    cross_val = cross_val_score(model ,X_train ,y_train ,cv=5)\n",
    "    cv_mean = cross_val.mean()\n",
    "    CV.append(round(cv_mean,2))\n",
    "    \n",
    "    # Printing results\n",
    "    print(\"Train R2-score :\",round(R2_train_model,2))\n",
    "    print(\"Test R2-score :\",round(R2_test_model,2))\n",
    "    print(\"Train CV scores :\",cross_val)\n",
    "    print(\"Train CV mean :\",round(cv_mean,2))\n",
    "    \n",
    "    # Plotting Graphs \n",
    "    # Residual Plot of train data\n",
    "    fig, ax = plt.subplots(1,2,figsize = (10,4))\n",
    "    ax[0].set_title('Residual Plot of Train samples')\n",
    "    sns.distplot((y_train-y_pred_train),hist = False,ax = ax[0])\n",
    "    ax[0].set_xlabel('y_train - y_pred_train')\n",
    "    \n",
    "    # Y_test vs Y_train scatter plot\n",
    "    ax[1].set_title('y_test vs y_pred_test')\n",
    "    ax[1].scatter(x = y_test, y = y_pred_test)\n",
    "    ax[1].set_xlabel('y_test')\n",
    "    ax[1].set_ylabel('y_pred_test')\n",
    "    \n",
    "    plt.show()"
   ]
  },
  {
   "cell_type": "markdown",
   "metadata": {
    "papermill": {
     "duration": 0.045748,
     "end_time": "2020-12-21T20:34:31.280392",
     "exception": false,
     "start_time": "2020-12-21T20:34:31.234644",
     "status": "completed"
    },
    "tags": []
   },
   "source": [
    "#### Standard Linear Regression or Ordinary Least Squares"
   ]
  },
  {
   "cell_type": "code",
   "execution_count": 31,
   "metadata": {
    "execution": {
     "iopub.execute_input": "2020-12-21T20:34:31.378144Z",
     "iopub.status.busy": "2020-12-21T20:34:31.377469Z",
     "iopub.status.idle": "2020-12-21T20:34:31.862044Z",
     "shell.execute_reply": "2020-12-21T20:34:31.861308Z"
    },
    "papermill": {
     "duration": 0.535588,
     "end_time": "2020-12-21T20:34:31.862166",
     "exception": false,
     "start_time": "2020-12-21T20:34:31.326578",
     "status": "completed"
    },
    "tags": []
   },
   "outputs": [
    {
     "name": "stdout",
     "output_type": "stream",
     "text": [
      "Train R2-score : 0.88\n",
      "Test R2-score : 0.86\n",
      "Train CV scores : [0.89912189 0.89838688 0.82980069 0.81769076 0.76113925]\n",
      "Train CV mean : 0.84\n"
     ]
    },
    {
     "data": {
      "image/png": "[encoded data removed]",
      "text/plain": [
       "<Figure size 1000x400 with 2 Axes>"
      ]
     },
     "metadata": {},
     "output_type": "display_data"
    }
   ],
   "source": [
    "from sklearn.linear_model import LinearRegression\n",
    "\n",
    "lr = LinearRegression()\n",
    "car_pred_model(lr,\"Linear_regressor.pkl\")"
   ]
  },
  {
   "cell_type": "markdown",
   "metadata": {
    "papermill": {
     "duration": 0.047284,
     "end_time": "2020-12-21T20:34:31.957285",
     "exception": false,
     "start_time": "2020-12-21T20:34:31.910001",
     "status": "completed"
    },
    "tags": []
   },
   "source": [
    "#### Ridge"
   ]
  },
  {
   "cell_type": "code",
   "execution_count": 32,
   "metadata": {
    "execution": {
     "iopub.execute_input": "2020-12-21T20:34:32.064627Z",
     "iopub.status.busy": "2020-12-21T20:34:32.063532Z",
     "iopub.status.idle": "2020-12-21T20:34:34.193727Z",
     "shell.execute_reply": "2020-12-21T20:34:34.194382Z"
    },
    "papermill": {
     "duration": 2.189131,
     "end_time": "2020-12-21T20:34:34.194531",
     "exception": false,
     "start_time": "2020-12-21T20:34:32.005400",
     "status": "completed"
    },
    "tags": []
   },
   "outputs": [
    {
     "name": "stdout",
     "output_type": "stream",
     "text": [
      "Train R2-score : 0.88\n",
      "Test R2-score : 0.86\n",
      "Train CV scores : [0.89911673 0.8983878  0.82980292 0.81769155 0.73377277]\n",
      "Train CV mean : 0.84\n"
     ]
    },
    {
     "data": {
      "image/png": "[encoded data removed]",
      "text/plain": [
       "<Figure size 1000x400 with 2 Axes>"
      ]
     },
     "metadata": {},
     "output_type": "display_data"
    }
   ],
   "source": [
    "from sklearn.linear_model import Ridge\n",
    "from sklearn.model_selection import RandomizedSearchCV\n",
    "\n",
    "# Creating Ridge model object\n",
    "rg = Ridge()\n",
    "# range of alpha \n",
    "alpha = np.logspace(-3,3,num=14)\n",
    "\n",
    "# Creating RandomizedSearchCV to find the best estimator of hyperparameter\n",
    "rg_rs = RandomizedSearchCV(estimator = rg, param_distributions = dict(alpha=alpha))\n",
    "\n",
    "car_pred_model(rg_rs,\"ridge.pkl\")"
   ]
  },
  {
   "cell_type": "markdown",
   "metadata": {
    "papermill": {
     "duration": 0.048923,
     "end_time": "2020-12-21T20:34:34.293641",
     "exception": false,
     "start_time": "2020-12-21T20:34:34.244718",
     "status": "completed"
    },
    "tags": []
   },
   "source": [
    "#### Lasso"
   ]
  },
  {
   "cell_type": "code",
   "execution_count": 33,
   "metadata": {
    "execution": {
     "iopub.execute_input": "2020-12-21T20:34:34.400034Z",
     "iopub.status.busy": "2020-12-21T20:34:34.399322Z",
     "iopub.status.idle": "2020-12-21T20:34:34.402927Z",
     "shell.execute_reply": "2020-12-21T20:34:34.402239Z"
    },
    "papermill": {
     "duration": 0.059798,
     "end_time": "2020-12-21T20:34:34.403045",
     "exception": false,
     "start_time": "2020-12-21T20:34:34.343247",
     "status": "completed"
    },
    "tags": []
   },
   "outputs": [],
   "source": [
    "from sklearn.linear_model import Lasso\n",
    "from sklearn.model_selection import RandomizedSearchCV\n",
    "\n",
    "ls = Lasso()\n",
    "alpha = np.logspace(-3,3,num=14) # range for alpha\n",
    "\n",
    "ls_rs = RandomizedSearchCV(estimator = ls, param_distributions = dict(alpha=alpha))"
   ]
  },
  {
   "cell_type": "code",
   "execution_count": 34,
   "metadata": {
    "execution": {
     "iopub.execute_input": "2020-12-21T20:34:34.516501Z",
     "iopub.status.busy": "2020-12-21T20:34:34.515812Z",
     "iopub.status.idle": "2020-12-21T20:34:36.670672Z",
     "shell.execute_reply": "2020-12-21T20:34:36.669958Z"
    },
    "papermill": {
     "duration": 2.218354,
     "end_time": "2020-12-21T20:34:36.670926",
     "exception": false,
     "start_time": "2020-12-21T20:34:34.452572",
     "status": "completed"
    },
    "tags": []
   },
   "outputs": [
    {
     "name": "stdout",
     "output_type": "stream",
     "text": [
      "Train R2-score : 0.88\n",
      "Test R2-score : 0.86\n",
      "Train CV scores : [0.8990973  0.89975361 0.8301628  0.81769086 0.70210321]\n",
      "Train CV mean : 0.83\n"
     ]
    },
    {
     "data": {
      "image/png": "[encoded data removed]",
      "text/plain": [
       "<Figure size 1000x400 with 2 Axes>"
      ]
     },
     "metadata": {},
     "output_type": "display_data"
    }
   ],
   "source": [
    "car_pred_model(ls_rs,\"lasso.pkl\")"
   ]
  },
  {
   "cell_type": "markdown",
   "metadata": {
    "papermill": {
     "duration": 0.050885,
     "end_time": "2020-12-21T20:34:36.773959",
     "exception": false,
     "start_time": "2020-12-21T20:34:36.723074",
     "status": "completed"
    },
    "tags": []
   },
   "source": [
    "#### Random Forest"
   ]
  },
  {
   "cell_type": "code",
   "execution_count": 35,
   "metadata": {
    "execution": {
     "iopub.execute_input": "2020-12-21T20:34:36.886215Z",
     "iopub.status.busy": "2020-12-21T20:34:36.885445Z",
     "iopub.status.idle": "2020-12-21T20:34:37.024691Z",
     "shell.execute_reply": "2020-12-21T20:34:37.023705Z"
    },
    "papermill": {
     "duration": 0.199623,
     "end_time": "2020-12-21T20:34:37.024843",
     "exception": false,
     "start_time": "2020-12-21T20:34:36.825220",
     "status": "completed"
    },
    "tags": []
   },
   "outputs": [],
   "source": [
    "from sklearn.ensemble import RandomForestRegressor\n",
    "from sklearn.model_selection import RandomizedSearchCV\n",
    "\n",
    "rf = RandomForestRegressor()\n",
    "\n",
    "# Number of trees in Random forest\n",
    "n_estimators=list(range(500,1000,100))\n",
    "# Maximum number of levels in a tree\n",
    "max_depth=list(range(4,9,4))\n",
    "# Minimum number of samples required to split an internal node\n",
    "min_samples_split=list(range(4,9,2))\n",
    "# Minimum number of samples required to be at a leaf node.\n",
    "min_samples_leaf=[1,2,5,7]\n",
    "# Number of fearures to be considered at each split\n",
    "max_features=['auto','sqrt']\n",
    "\n",
    "# Hyperparameters dict\n",
    "param_grid = {\"n_estimators\":n_estimators,\n",
    "              \"max_depth\":max_depth,\n",
    "              \"min_samples_split\":min_samples_split,\n",
    "              \"min_samples_leaf\":min_samples_leaf,\n",
    "              \"max_features\":max_features}\n",
    "\n",
    "rf_rs = RandomizedSearchCV(estimator = rf, param_distributions = param_grid)"
   ]
  },
  {
   "cell_type": "code",
   "execution_count": 36,
   "metadata": {
    "execution": {
     "iopub.execute_input": "2020-12-21T20:34:37.167400Z",
     "iopub.status.busy": "2020-12-21T20:34:37.146397Z",
     "iopub.status.idle": "2020-12-21T20:41:00.578147Z",
     "shell.execute_reply": "2020-12-21T20:41:00.577534Z"
    },
    "papermill": {
     "duration": 383.501836,
     "end_time": "2020-12-21T20:41:00.578273",
     "exception": false,
     "start_time": "2020-12-21T20:34:37.076437",
     "status": "completed"
    },
    "tags": []
   },
   "outputs": [
    {
     "name": "stdout",
     "output_type": "stream",
     "text": [
      "Train R2-score : 0.85\n",
      "Test R2-score : 0.91\n",
      "Train CV scores : [0.88153919 0.90365448 0.81525859 0.84299568 0.60987398]\n",
      "Train CV mean : 0.81\n"
     ]
    },
    {
     "data": {
      "image/png": "[encoded data removed]",
      "text/plain": [
       "<Figure size 1000x400 with 2 Axes>"
      ]
     },
     "metadata": {},
     "output_type": "display_data"
    }
   ],
   "source": [
    "car_pred_model(rf_rs,'random_forest.pkl')"
   ]
  },
  {
   "cell_type": "code",
   "execution_count": 37,
   "metadata": {
    "execution": {
     "iopub.execute_input": "2020-12-21T20:41:00.688606Z",
     "iopub.status.busy": "2020-12-21T20:41:00.687571Z",
     "iopub.status.idle": "2020-12-21T20:41:00.697472Z",
     "shell.execute_reply": "2020-12-21T20:41:00.696827Z"
    },
    "papermill": {
     "duration": 0.066724,
     "end_time": "2020-12-21T20:41:00.697663",
     "exception": false,
     "start_time": "2020-12-21T20:41:00.630939",
     "status": "completed"
    },
    "tags": []
   },
   "outputs": [
    {
     "name": "stdout",
     "output_type": "stream",
     "text": [
      "RandomForestRegressor(max_depth=4, max_features='sqrt', min_samples_leaf=2,\n",
      "                      min_samples_split=4, n_estimators=800)\n"
     ]
    }
   ],
   "source": [
    "print(rf_rs.best_estimator_)"
   ]
  },
  {
   "cell_type": "markdown",
   "metadata": {
    "papermill": {
     "duration": 0.053049,
     "end_time": "2020-12-21T20:41:00.804511",
     "exception": false,
     "start_time": "2020-12-21T20:41:00.751462",
     "status": "completed"
    },
    "tags": []
   },
   "source": [
    "#### Gradient Boosting"
   ]
  },
  {
   "cell_type": "code",
   "execution_count": 38,
   "metadata": {
    "execution": {
     "iopub.execute_input": "2020-12-21T20:41:00.924538Z",
     "iopub.status.busy": "2020-12-21T20:41:00.923630Z",
     "iopub.status.idle": "2020-12-21T20:41:00.926880Z",
     "shell.execute_reply": "2020-12-21T20:41:00.926321Z"
    },
    "papermill": {
     "duration": 0.067988,
     "end_time": "2020-12-21T20:41:00.926998",
     "exception": false,
     "start_time": "2020-12-21T20:41:00.859010",
     "status": "completed"
    },
    "tags": []
   },
   "outputs": [],
   "source": [
    "from sklearn.ensemble import GradientBoostingRegressor\n",
    "from sklearn.model_selection import RandomizedSearchCV\n",
    "\n",
    "gb = GradientBoostingRegressor()\n",
    "\n",
    "# Rate at which correcting is being made\n",
    "learning_rate = [0.001, 0.01, 0.1, 0.2]\n",
    "# Number of trees in Gradient boosting\n",
    "n_estimators=list(range(500,1000,100))\n",
    "# Maximum number of levels in a tree\n",
    "max_depth=list(range(4,9,4))\n",
    "# Minimum number of samples required to split an internal node\n",
    "min_samples_split=list(range(4,9,2))\n",
    "# Minimum number of samples required to be at a leaf node.\n",
    "min_samples_leaf=[1,2,5,7]\n",
    "# Number of fearures to be considered at each split\n",
    "max_features=['auto','sqrt']\n",
    "\n",
    "# Hyperparameters dict\n",
    "param_grid = {\"learning_rate\":learning_rate,\n",
    "              \"n_estimators\":n_estimators,\n",
    "              \"max_depth\":max_depth,\n",
    "              \"min_samples_split\":min_samples_split,\n",
    "              \"min_samples_leaf\":min_samples_leaf,\n",
    "              \"max_features\":max_features}\n",
    "\n",
    "gb_rs = RandomizedSearchCV(estimator = gb, param_distributions = param_grid)"
   ]
  },
  {
   "cell_type": "code",
   "execution_count": 39,
   "metadata": {
    "execution": {
     "iopub.execute_input": "2020-12-21T20:41:01.046156Z",
     "iopub.status.busy": "2020-12-21T20:41:01.040634Z",
     "iopub.status.idle": "2020-12-21T20:42:35.859300Z",
     "shell.execute_reply": "2020-12-21T20:42:35.858670Z"
    },
    "papermill": {
     "duration": 94.878382,
     "end_time": "2020-12-21T20:42:35.859423",
     "exception": false,
     "start_time": "2020-12-21T20:41:00.981041",
     "status": "completed"
    },
    "tags": []
   },
   "outputs": [
    {
     "name": "stdout",
     "output_type": "stream",
     "text": [
      "Train R2-score : 1.0\n",
      "Test R2-score : 0.91\n",
      "Train CV scores : [0.90737988 0.96327613 0.88591567 0.86192559 0.67937252]\n",
      "Train CV mean : 0.86\n"
     ]
    },
    {
     "data": {
      "image/png": "[encoded data removed]",
      "text/plain": [
       "<Figure size 1000x400 with 2 Axes>"
      ]
     },
     "metadata": {},
     "output_type": "display_data"
    }
   ],
   "source": [
    "car_pred_model(gb_rs,\"gradient_boosting.pkl\")"
   ]
  },
  {
   "cell_type": "code",
   "execution_count": 40,
   "metadata": {
    "execution": {
     "iopub.execute_input": "2020-12-21T20:42:35.984547Z",
     "iopub.status.busy": "2020-12-21T20:42:35.983895Z",
     "iopub.status.idle": "2020-12-21T20:42:35.989297Z",
     "shell.execute_reply": "2020-12-21T20:42:35.988567Z"
    },
    "papermill": {
     "duration": 0.073901,
     "end_time": "2020-12-21T20:42:35.989408",
     "exception": false,
     "start_time": "2020-12-21T20:42:35.915507",
     "status": "completed"
    },
    "tags": []
   },
   "outputs": [
    {
     "data": {
      "text/html": [
       "<div>\n",
       "<style scoped>\n",
       "    .dataframe tbody tr th:only-of-type {\n",
       "        vertical-align: middle;\n",
       "    }\n",
       "\n",
       "    .dataframe tbody tr th {\n",
       "        vertical-align: top;\n",
       "    }\n",
       "\n",
       "    .dataframe thead th {\n",
       "        text-align: right;\n",
       "    }\n",
       "</style>\n",
       "<table border=\"1\" class=\"dataframe\">\n",
       "  <thead>\n",
       "    <tr style=\"text-align: right;\">\n",
       "      <th></th>\n",
       "      <th>Model</th>\n",
       "      <th>R Squared(Train)</th>\n",
       "      <th>R Squared(Test)</th>\n",
       "      <th>CV score mean(Train)</th>\n",
       "    </tr>\n",
       "  </thead>\n",
       "  <tbody>\n",
       "    <tr>\n",
       "      <th>0</th>\n",
       "      <td>LinearRegression</td>\n",
       "      <td>0.88</td>\n",
       "      <td>0.86</td>\n",
       "      <td>0.84</td>\n",
       "    </tr>\n",
       "    <tr>\n",
       "      <th>1</th>\n",
       "      <td>Ridge</td>\n",
       "      <td>0.88</td>\n",
       "      <td>0.86</td>\n",
       "      <td>0.84</td>\n",
       "    </tr>\n",
       "    <tr>\n",
       "      <th>2</th>\n",
       "      <td>Lasso</td>\n",
       "      <td>0.88</td>\n",
       "      <td>0.86</td>\n",
       "      <td>0.83</td>\n",
       "    </tr>\n",
       "    <tr>\n",
       "      <th>3</th>\n",
       "      <td>RandomForestRegressor</td>\n",
       "      <td>0.85</td>\n",
       "      <td>0.91</td>\n",
       "      <td>0.81</td>\n",
       "    </tr>\n",
       "    <tr>\n",
       "      <th>4</th>\n",
       "      <td>GradientBoostingRegressor</td>\n",
       "      <td>1.00</td>\n",
       "      <td>0.91</td>\n",
       "      <td>0.86</td>\n",
       "    </tr>\n",
       "  </tbody>\n",
       "</table>\n",
       "</div>"
      ],
      "text/plain": [
       "                       Model  R Squared(Train)  R Squared(Test)  \\\n",
       "0           LinearRegression              0.88             0.86   \n",
       "1                      Ridge              0.88             0.86   \n",
       "2                      Lasso              0.88             0.86   \n",
       "3      RandomForestRegressor              0.85             0.91   \n",
       "4  GradientBoostingRegressor              1.00             0.91   \n",
       "\n",
       "   CV score mean(Train)  \n",
       "0                  0.84  \n",
       "1                  0.84  \n",
       "2                  0.83  \n",
       "3                  0.81  \n",
       "4                  0.86  "
      ]
     },
     "metadata": {},
     "output_type": "display_data"
    }
   ],
   "source": [
    "Technique = [\"LinearRegression\",\"Ridge\",\"Lasso\",\"RandomForestRegressor\",\"GradientBoostingRegressor\"]\n",
    "results=pd.DataFrame({'Model': Technique,'R Squared(Train)': R2_train,'R Squared(Test)': R2_test,'CV score mean(Train)': CV})\n",
    "display(results)"
   ]
  },
  {
   "cell_type": "code",
   "execution_count": null,
   "metadata": {
    "papermill": {
     "duration": 0.057634,
     "end_time": "2020-12-21T20:42:36.102576",
     "exception": false,
     "start_time": "2020-12-21T20:42:36.044942",
     "status": "completed"
    },
    "tags": []
   },
   "outputs": [],
   "source": []
  }
 ],
 "metadata": {
  "kernelspec": {
   "display_name": "Python 3 (ipykernel)",
   "language": "python",
   "name": "python3"
  },
  "language_info": {
   "codemirror_mode": {
    "name": "ipython",
    "version": 3
   },
   "file_extension": ".py",
   "mimetype": "text/x-python",
   "name": "python",
   "nbconvert_exporter": "python",
   "pygments_lexer": "ipython3",
   "version": "3.11.5"
  },
  "papermill": {
   "duration": 496.115101,
   "end_time": "2020-12-21T20:42:36.266794",
   "environment_variables": {},
   "exception": null,
   "input_path": "__notebook__.ipynb",
   "output_path": "__notebook__.ipynb",
   "parameters": {},
   "start_time": "2020-12-21T20:34:20.151693",
   "version": "2.1.0"
  }
 },
 "nbformat": 4,
 "nbformat_minor": 4
}
